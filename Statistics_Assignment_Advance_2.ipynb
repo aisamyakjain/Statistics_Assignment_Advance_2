{
 "cells": [
  {
   "cell_type": "code",
   "execution_count": 1,
   "id": "b59538e9-1d33-476f-954d-2c0caa58da20",
   "metadata": {},
   "outputs": [],
   "source": [
    "# Q1: What are the Probability Mass Function (PMF) and Probability Density Function (PDF)? Explain with \n",
    "# an example\n",
    "\n",
    "\n",
    "# The Probability Mass Function (PMF) and Probability Density Function (PDF) are mathematical functions used to describe the probabilities or \n",
    "# likelihoods of different outcomes in a probability distribution.\n",
    "\n",
    "# The PMF is used for discrete random variables and gives the probability of each possible outcome. It assigns a probability value to each specific \n",
    "# outcome in the sample space.\n",
    "\n",
    "# For example, consider a fair six-sided die. The PMF of rolling the die can be expressed as:\n",
    "\n",
    "# PMF(x) = 1/6, for x = 1, 2, 3, 4, 5, 6\n",
    "\n",
    "# Here, the PMF gives an equal probability of 1/6 for each outcome (1, 2, 3, 4, 5, 6) because each face of the die has an equal chance of appearing.\n",
    "\n",
    "# The PDF, on the other hand, is used for continuous random variables and gives the relative likelihood of a range of values. It represents the \n",
    "# probability density rather than the probability itself.\n",
    "\n",
    "# For example, consider the standard normal distribution. The PDF of this distribution is given by the bell-shaped curve:\n",
    "\n",
    "# PDF(x) = (1 / √(2π)) * e^(-(x^2)/2)\n",
    "\n",
    "# Here, the PDF gives the relative likelihood or density of different values of x in the standard normal distribution. \n",
    "# The area under the curve between two points represents the probability of obtaining a value within that range.\n",
    "\n",
    "# In summary, the PMF is used for discrete random variables and gives the probability of each specific outcome, while the PDF is used for \n",
    "# continuous random variables and gives the relative likelihood or density of different values within a range.\n"
   ]
  },
  {
   "cell_type": "code",
   "execution_count": 2,
   "id": "82c3c3dc-45e2-4816-99c7-1d68fa95e8bb",
   "metadata": {},
   "outputs": [],
   "source": [
    "# Q2: What is Cumulative Density Function (CDF)? Explain with an example. Why CDF is used?\n",
    "\n",
    "\n",
    "# The Cumulative Density Function (CDF) is a function that gives the probability that a random variable takes on a value less than or equal to a given value. \n",
    "# It provides a cumulative measure of the probability distribution.\n",
    "\n",
    "# For example, in a standard normal distribution, the CDF at a specific value represents the probability of observing a value less than or equal to that value. \n",
    "# It can be used to determine percentiles, calculate probabilities for ranges of values, and assess the likelihood of a particular outcome.\n",
    "\n",
    "# The CDF is used because it provides a comprehensive summary of the entire probability distribution, allowing for comparisons, calculations of probabilities, \n",
    "# and understanding the likelihood of different outcomes in a distribution."
   ]
  },
  {
   "cell_type": "code",
   "execution_count": 3,
   "id": "ff05adea-9c44-44c9-946b-605f4a8f7144",
   "metadata": {},
   "outputs": [],
   "source": [
    "# Q3: What are some examples of situations where the normal distribution might be used as a model? \n",
    "# Explain how the parameters of the normal distribution relate to the shape of the distribution\n",
    "\n",
    "# The normal distribution is used to model situations such as heights, weights, IQ scores, and measurement errors. \n",
    "# The mean determines the center, while the standard deviation affects the spread. \n",
    "# Higher mean shifts the distribution right, while a larger standard deviation widens it.\n"
   ]
  },
  {
   "cell_type": "code",
   "execution_count": 4,
   "id": "acdfcc43-ee9e-48e3-bf43-6d27b7994b03",
   "metadata": {},
   "outputs": [],
   "source": [
    "# Q4: Explain the importance of Normal Distribution. Give a few real-life examples of Normal \n",
    "# Distribution\n",
    "\n",
    "# The normal distribution is crucial due to its mathematical properties and prevalence in real-life phenomena. \n",
    "# Examples include heights of people, exam scores, measurement errors, IQ scores, and financial markets.\n",
    "# It enables accurate statistical analysis, prediction, and risk assessment in diverse fields."
   ]
  },
  {
   "cell_type": "code",
   "execution_count": 5,
   "id": "e382617a-3783-4087-b4b5-f741cdd868e3",
   "metadata": {},
   "outputs": [],
   "source": [
    "# Q5: What is Bernaulli Distribution? Give an Example. What is the difference between Bernoulli \n",
    "# Distribution and Binomial Distribution?\n",
    "\n",
    "# The Bernoulli distribution models a single binary outcome, such as success or failure, with a fixed probability of success (p). \n",
    "# An example is flipping a coin: success represents heads (p=0.5) and failure represents tails (p=0.5).\n",
    "\n",
    "# The main difference is that the Bernoulli distribution models a single trial,\n",
    "# while the binomial distribution models the number of successes in a fixed number of independent trials."
   ]
  },
  {
   "cell_type": "code",
   "execution_count": 6,
   "id": "35ec0f51-4831-4542-806b-cd2e3b027c9b",
   "metadata": {},
   "outputs": [],
   "source": [
    "# 6. Consider a dataset with a mean of 50 and a standard deviation of 10. If we assume that the dataset \n",
    "# is normally distributed, what is the probability that a randomly selected observation will be greater \n",
    "# than 60? Use the appropriate formula and show your calculations.\n",
    "\n",
    "\n",
    "# To calculate the probability that a randomly selected observation from a normally distributed dataset with a mean of 50 and a \n",
    "# standard deviation of 10 will be greater than 60, we can use the Z-score formula and standard normal distribution table.\n",
    "\n",
    "# First, we need to calculate the Z-score for the value 60, which represents how many standard deviations away it is from the mean:\n",
    "\n",
    "# Z = (X - μ) / σ\n",
    "\n",
    "# Z = (60 - 50) / 10\n",
    "\n",
    "# Z = 1\n",
    "# Next, we need to find the corresponding probability from the standard normal distribution table for a Z-score of 1. \n",
    "# Looking up the Z-score of 1 in the table, we find that the probability is approximately 0.8413.\n",
    "\n",
    "# Therefore, the probability that a randomly selected observation will be greater than 60 is approximately 0.8413 or 84.13%."
   ]
  },
  {
   "cell_type": "code",
   "execution_count": 7,
   "id": "6e45398d-b0dc-4409-94f2-a782a74290a5",
   "metadata": {},
   "outputs": [],
   "source": [
    "# 7: Explain uniform Distribution with an example.\n",
    "\n",
    "# The uniform distribution is a probability distribution where all outcomes in a given range are equally likely. \n",
    "# For example, rolling a fair six-sided die follows a uniform distribution, \n",
    "# as each outcome has an equal probability of 1/6."
   ]
  },
  {
   "cell_type": "code",
   "execution_count": 8,
   "id": "9f3803a5-bc31-4290-929b-8aee86286ef1",
   "metadata": {},
   "outputs": [],
   "source": [
    "# 8: What is the z score? State the importance of the z score.\n",
    "\n",
    "# The z-score (or standard score) is a measure that quantifies the number of standard deviations a data point is from the mean of a distribution. \n",
    "# It is calculated as (x - μ) / σ, where x is the data point, μ is the mean, and σ is the standard deviation.\n",
    "\n",
    "# The importance of the z-score lies in its ability to standardize data and compare values from different distributions. \n",
    "# It allows us to determine the relative position of a data point within a distribution and assess its deviation from the mean. \n",
    "# The z-score is also used in hypothesis testing, determining percentiles, and identifying outliers."
   ]
  },
  {
   "cell_type": "code",
   "execution_count": null,
   "id": "7437750a-c1fd-41f3-bff4-5211a0719695",
   "metadata": {},
   "outputs": [],
   "source": [
    "# Q9: What is Central Limit Theorem? State the significance of the Central Limit Theorem.\n",
    "\n",
    "# The Central Limit Theorem (CLT) states that, regardless of the shape of the original population distribution, the sampling distribution of \n",
    "# the sample means will approximate a normal distribution as the sample size increases.\n",
    "\n",
    "# The significance of the Central Limit Theorem is that it enables us to make inferences about a population using sample data. \n",
    "# It allows us to apply statistical methods that assume a normal distribution even when the original population distribution is not normal. \n",
    "# The CLT is fundamental in hypothesis testing, confidence intervals, \n",
    "# and estimation techniques, as it provides a basis for the reliability and validity of these statistical procedures."
   ]
  },
  {
   "cell_type": "code",
   "execution_count": null,
   "id": "a03151c4-27ab-495e-bc96-cc78f6f6ed02",
   "metadata": {},
   "outputs": [],
   "source": [
    "# Q10: State the assumptions of the Central Limit Theorem in 50 words?\n",
    "\n",
    "# The Central Limit Theorem (CLT) makes the following assumptions:\n",
    "\n",
    "# Independence: The observations in the sample must be independent of each other. This means that the value of one observation does not influence or \n",
    "# depend on the values of other observations.\n",
    "\n",
    "# Sample Size: The sample size should be sufficiently large. While there is no strict rule for the minimum sample size, a commonly recommended \n",
    "# guideline is that the sample size should be at least 30. \n",
    "# However, for certain distributions with heavy tails, a larger sample size may be required.\n",
    "\n",
    "# Finite Variance: The population from which the sample is drawn should have a finite variance. If the population variance is infinite or undefined, \n",
    "# the CLT may not hold.\n",
    "\n",
    "# Random Sampling: The observations in the sample should be selected randomly from the population, ensuring that each observation has an equal chance of \n",
    "# being included in the sample.\n",
    "\n",
    "# These assumptions help ensure the validity and accuracy of the Central Limit Theorem when applying it to real-world data and populations. Violations \n",
    "# of these assumptions can lead to inaccuracies or limitations in the application of the CLT."
   ]
  }
 ],
 "metadata": {
  "kernelspec": {
   "display_name": "Python 3 (ipykernel)",
   "language": "python",
   "name": "python3"
  },
  "language_info": {
   "codemirror_mode": {
    "name": "ipython",
    "version": 3
   },
   "file_extension": ".py",
   "mimetype": "text/x-python",
   "name": "python",
   "nbconvert_exporter": "python",
   "pygments_lexer": "ipython3",
   "version": "3.10.8"
  }
 },
 "nbformat": 4,
 "nbformat_minor": 5
}
